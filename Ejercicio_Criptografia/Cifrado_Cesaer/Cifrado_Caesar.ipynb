{
 "cells": [
  {
   "cell_type": "markdown",
   "metadata": {},
   "source": [
    "# Historia de Criptografia"
   ]
  },
  {
   "cell_type": "markdown",
   "metadata": {},
   "source": [
    "## Cifrado Caesar\n"
   ]
  },
  {
   "cell_type": "markdown",
   "metadata": {},
   "source": [
    "El cifrado Caesar es un método de cifrado muy simple y antiguo en el que cada letra de un texto se reemplaza por otra letra que está un número fijo de posiciones más adelante (o atrás) en el alfabeto. Este número fijo se llama desplazamiento o clave.\n",
    "\n",
    "Por ejemplo, con un desplazamiento de 3:\n",
    "\n",
    "- La letra A se convierte en D.\n",
    "- La letra B se convierte en E.\n",
    "- Y así sucesivamente.\n",
    "\n",
    "Cuando se llega al final del alfabeto, se vuelve al principio (por ejemplo, X se convierte en A).\n",
    "\n",
    "Es un sistema de cifrado por sustitución y su simplicidad lo hace fácil de descifrar, especialmente con métodos modernos. Fue usado por Julio César para comunicarse en secreto, de ahí su nombre."
   ]
  },
  {
   "cell_type": "markdown",
   "metadata": {},
   "source": [
    "#### Encriptar por medio del cifrado Caesar:\n",
    "\n"
   ]
  },
  {
   "attachments": {
    "image.png": {
     "image/png": "[encoded data removed]"
    }
   },
   "cell_type": "markdown",
   "metadata": {},
   "source": [
    "Se utiliza la siguiente ecuacion para poder calcular la nueva posicion de la letra que se busca cambiar\n",
    "\n",
    "\n",
    "![image.png](attachment:image.png)"
   ]
  },
  {
   "cell_type": "code",
   "execution_count": 3,
   "metadata": {},
   "outputs": [
    {
     "name": "stdout",
     "output_type": "stream",
     "text": [
      "Texto original: Hola Mundo!\n",
      "Texto encriptado: Krod Pxqgr!\n"
     ]
    }
   ],
   "source": [
    "def caesar_cipher_encrypt(text, key):\n",
    "    encrypted_text = \"\"\n",
    "\n",
    "    for char in text:\n",
    "        if char.isalpha():  # Se verifica primero si es una letra\n",
    "            ascii_offset = 65 if char.isupper() else 97\n",
    "            # Se hace el desplazamineto y se calcula el nuevo caracter\n",
    "            new_char = chr((ord(char) - ascii_offset + key) % 26 + ascii_offset)\n",
    "            encrypted_text += new_char\n",
    "        else:\n",
    "            # Si no es letra, no se modifica\n",
    "            encrypted_text += char\n",
    "\n",
    "    return encrypted_text\n",
    "\n",
    "# Ejemplo de uso\n",
    "text = \"Hola Mundo!\"\n",
    "key = 3\n",
    "encrypted_text = caesar_cipher_encrypt(text, key)\n",
    "print(f\"Texto original: {text}\")\n",
    "print(f\"Texto encriptado: {encrypted_text}\")\n"
   ]
  },
  {
   "cell_type": "markdown",
   "metadata": {},
   "source": [
    "#### Desencriptar por medio del Cifrado Caesar:"
   ]
  },
  {
   "attachments": {
    "image.png": {
     "image/png": "[encoded data removed]"
    }
   },
   "cell_type": "markdown",
   "metadata": {},
   "source": [
    "Se utiliza la siguiente ecuacion para poder calcular la nueva posicion de la letra que se busca cambiar\n",
    "\n",
    "![image.png](attachment:image.png)"
   ]
  },
  {
   "cell_type": "code",
   "execution_count": 4,
   "metadata": {},
   "outputs": [
    {
     "name": "stdout",
     "output_type": "stream",
     "text": [
      "Texto original: Hola Mundo!\n",
      "Texto encriptado: Krod Pxqgr!\n",
      "Texto desencriptado: Hola Mundo!\n"
     ]
    }
   ],
   "source": [
    "def caesar_cipher_encrypt(text, shift):\n",
    "    encrypted_text = \"\"\n",
    "\n",
    "    for char in text:\n",
    "        if char.isalpha():  # Se verifica primero si es una letra\n",
    "            ascii_offset = 65 if char.isupper() else 97\n",
    "            # Se hace el desplazamineto y se calcula el nuevo caracter\n",
    "            new_char = chr((ord(char) - ascii_offset + shift) % 26 + ascii_offset)\n",
    "            encrypted_text += new_char\n",
    "        else:\n",
    "            # Si no es letra, no se modifica\n",
    "            encrypted_text += char\n",
    "\n",
    "    return encrypted_text\n",
    "\n",
    "def caesar_cipher_decrypt(text, shift):\n",
    "    return caesar_cipher_encrypt(text, -shift)\n",
    "\n",
    "# Ejemplo de uso\n",
    "text = \"Hola Mundo!\"\n",
    "shift = 3\n",
    "encrypted_text = caesar_cipher_encrypt(text, shift)\n",
    "decrypted_text = caesar_cipher_decrypt(encrypted_text, shift)\n",
    "\n",
    "print(f\"Texto original: {text}\")\n",
    "print(f\"Texto encriptado: {encrypted_text}\")\n",
    "print(f\"Texto desencriptado: {decrypted_text}\")"
   ]
  },
  {
   "cell_type": "markdown",
   "metadata": {},
   "source": [
    "### Porque lo escogi?\n",
    "\n",
    "Porque es un cifrado siemple de entender, donde nos muestra de manera perfecta como funciona un cifrado, y como es que tambien puede llegar a ser vulnerable"
   ]
  },
  {
   "cell_type": "markdown",
   "metadata": {},
   "source": [
    "#### Ventajas"
   ]
  },
  {
   "cell_type": "markdown",
   "metadata": {},
   "source": [
    "1. Simplicidad:\n",
    "Es fácil de entender e implementar, incluso para principiantes. Esto se debe a que no requiere cálculos complejos ni algun tipo de hardware especializado.\n",
    "\n",
    "2. Rapidez:\n",
    "Dado que solo requiere operaciones de suma, resta y módulo, su ejecución es extremadamente rápida.\n",
    "\n",
    "3. Baja sobrecarga:\n",
    "No necesita almacenar claves complicadas, ya que el desplazamiento es el único parámetro necesario.\n",
    "\n",
    "4. Aplicaciones simples:\n",
    "Puede ser útil para codificar mensajes en entornos donde no se necesita un alto nivel de seguridad, como en juegos, acertijos o mensajes que no requieren confidencialidad."
   ]
  },
  {
   "cell_type": "markdown",
   "metadata": {},
   "source": [
    "#### Vulnerabilidades\n"
   ]
  },
  {
   "cell_type": "markdown",
   "metadata": {},
   "source": [
    "1. Fácil de romper con fuerza bruta:\n",
    "Como solo hay 25 posibles desplazamientos (excluyendo el caso trivial de 0), un atacante puede probar todas las opciones manualmente o con un programa sencillo en segundos.\n",
    "\n",
    "2. Análisis de frecuencia:\n",
    "En idiomas como el español o el inglés, ciertas letras aparecen con mayor frecuencia (por ejemplo, E, A, O, L en español). Los atacantes pueden analizar las frecuencias de las letras cifradas y compararlas con las frecuencias típicas del idioma para descifrar el mensaje.\n",
    "\n",
    "3. Preserva el formato del texto:\n",
    "El cifrado Caesar no altera los patrones de las palabras o la longitud del texto. Esto permite a los atacantes reconocer patrones comunes como artículos, preposiciones o estructuras gramaticales.\n",
    "\n",
    "4. Ataques basados en texto conocido:\n",
    "Si un atacante conoce o puede adivinar parte del texto original (por ejemplo, un saludo como \"Hola\" al inicio), puede calcular fácilmente el desplazamiento y descifrar el resto del mensaje."
   ]
  }
 ],
 "metadata": {
  "kernelspec": {
   "display_name": ".venv",
   "language": "python",
   "name": "python3"
  },
  "language_info": {
   "codemirror_mode": {
    "name": "ipython",
    "version": 3
   },
   "file_extension": ".py",
   "mimetype": "text/x-python",
   "name": "python",
   "nbconvert_exporter": "python",
   "pygments_lexer": "ipython3",
   "version": "3.13.1"
  }
 },
 "nbformat": 4,
 "nbformat_minor": 2
}
